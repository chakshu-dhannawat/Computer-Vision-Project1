{
  "cells": [
    {
      "cell_type": "markdown",
      "metadata": {
        "id": "RSf_KdQzaiNl"
      },
      "source": [
        "# Course Project-1\n",
        "### CSL7360 - Computer Vision\n",
        "Authors:<br>\n",
        "Chakshu Anup Dhanawat B20AI006<BR>\n",
        "Haardik Ravat B20EE021\n"
      ]
    },
    {
      "cell_type": "code",
      "execution_count": null,
      "metadata": {
        "colab": {
          "base_uri": "https://localhost:8080/"
        },
        "id": "sVUWXv42sALz",
        "outputId": "9e943b34-9e7e-4f6d-a870-ff83abcf8483"
      },
      "outputs": [
        {
          "name": "stdout",
          "output_type": "stream",
          "text": [
            "Mounted at /content/drive\n"
          ]
        }
      ],
      "source": [
        "from google.colab import drive\n",
        "drive.mount('/content/drive')"
      ]
    },
    {
      "cell_type": "markdown",
      "metadata": {
        "id": "huj3D91Fa9w3"
      },
      "source": [
        "## Libraries"
      ]
    },
    {
      "cell_type": "code",
      "execution_count": null,
      "metadata": {
        "id": "vns42l3AZkSJ"
      },
      "outputs": [],
      "source": [
        "import os\n",
        "import glob\n",
        "import sklearn\n",
        "import numpy as np\n",
        "import pandas as pd\n",
        "import seaborn as sns\n",
        "import urllib.request\n",
        "import tensorflow as tf\n",
        "from PIL import Image as im\n",
        "from matplotlib import pyplot\n",
        "from tensorflow import keras \n",
        "from tensorflow.keras import layers\n",
        "from sklearn.model_selection import KFold\n",
        "from sklearn.metrics import accuracy_score\n",
        "import matplotlib.pyplot as plt\n",
        "\n",
        "import cv2\n",
        "from sklearn.preprocessing import StandardScaler\n",
        "from skimage.feature import hog\n",
        "from skimage.feature import local_binary_pattern\n",
        "\n",
        "from sklearn.model_selection import GridSearchCV\n",
        "from sklearn.ensemble._forest import RandomForestClassifier\n",
        "from sklearn.neighbors import KNeighborsClassifier\n",
        "from sklearn.neural_network import MLPClassifier\n",
        "from sklearn.linear_model import LogisticRegression\n",
        "from sklearn.svm import SVC\n",
        "from sklearn.naive_bayes import GaussianNB\n",
        "\n",
        "from google.colab.patches import cv2_imshow"
      ]
    },
    {
      "cell_type": "markdown",
      "metadata": {
        "id": "HY5_KrmDr66Y"
      },
      "source": [
        "##Global Variables"
      ]
    },
    {
      "cell_type": "code",
      "execution_count": null,
      "metadata": {
        "id": "GL8WTEFXr9GY"
      },
      "outputs": [],
      "source": [
        "quickdraw_dataset_path = \"/content/drive/MyDrive/CV_Datasets/Quick_Draw\""
      ]
    },
    {
      "cell_type": "markdown",
      "metadata": {
        "id": "GO8SZKeJbEY-"
      },
      "source": [
        "## Importing Datasets"
      ]
    },
    {
      "cell_type": "markdown",
      "metadata": {
        "id": "8_yRej6heBJR"
      },
      "source": [
        "### Quickdraw Dataset"
      ]
    },
    {
      "cell_type": "code",
      "execution_count": null,
      "metadata": {
        "colab": {
          "base_uri": "https://localhost:8080/"
        },
        "id": "_48ITWlzbJbR",
        "outputId": "f3d67e09-377a-4ac6-8cd1-c212337e2ac3"
      },
      "outputs": [
        {
          "name": "stdout",
          "output_type": "stream",
          "text": [
            "Downloading :  https://storage.googleapis.com/quickdraw_dataset/full/numpy_bitmap/airplane.npy\n",
            "Downloading :  https://storage.googleapis.com/quickdraw_dataset/full/numpy_bitmap/ambulance.npy\n",
            "Downloading :  https://storage.googleapis.com/quickdraw_dataset/full/numpy_bitmap/angel.npy\n",
            "Downloading :  https://storage.googleapis.com/quickdraw_dataset/full/numpy_bitmap/ant.npy\n",
            "Downloading :  https://storage.googleapis.com/quickdraw_dataset/full/numpy_bitmap/anvil.npy\n",
            "Downloading :  https://storage.googleapis.com/quickdraw_dataset/full/numpy_bitmap/apple.npy\n",
            "Downloading :  https://storage.googleapis.com/quickdraw_dataset/full/numpy_bitmap/arm.npy\n",
            "Downloading :  https://storage.googleapis.com/quickdraw_dataset/full/numpy_bitmap/asparagus.npy\n",
            "Downloading :  https://storage.googleapis.com/quickdraw_dataset/full/numpy_bitmap/axe.npy\n",
            "Downloading :  https://storage.googleapis.com/quickdraw_dataset/full/numpy_bitmap/backpack.npy\n",
            "Downloading :  https://storage.googleapis.com/quickdraw_dataset/full/numpy_bitmap/banana.npy\n",
            "Downloading :  https://storage.googleapis.com/quickdraw_dataset/full/numpy_bitmap/bandage.npy\n",
            "Downloading :  https://storage.googleapis.com/quickdraw_dataset/full/numpy_bitmap/barn.npy\n",
            "Downloading :  https://storage.googleapis.com/quickdraw_dataset/full/numpy_bitmap/baseball.npy\n",
            "Downloading :  https://storage.googleapis.com/quickdraw_dataset/full/numpy_bitmap/basket.npy\n",
            "Downloading :  https://storage.googleapis.com/quickdraw_dataset/full/numpy_bitmap/basketball.npy\n",
            "Downloading :  https://storage.googleapis.com/quickdraw_dataset/full/numpy_bitmap/bat.npy\n",
            "Downloading :  https://storage.googleapis.com/quickdraw_dataset/full/numpy_bitmap/bathtub.npy\n",
            "Downloading :  https://storage.googleapis.com/quickdraw_dataset/full/numpy_bitmap/beach.npy\n",
            "Downloading :  https://storage.googleapis.com/quickdraw_dataset/full/numpy_bitmap/bear.npy\n",
            "Downloading :  https://storage.googleapis.com/quickdraw_dataset/full/numpy_bitmap/beard.npy\n",
            "Downloading :  https://storage.googleapis.com/quickdraw_dataset/full/numpy_bitmap/bed.npy\n",
            "Downloading :  https://storage.googleapis.com/quickdraw_dataset/full/numpy_bitmap/bee.npy\n",
            "Downloading :  https://storage.googleapis.com/quickdraw_dataset/full/numpy_bitmap/belt.npy\n",
            "Downloading :  https://storage.googleapis.com/quickdraw_dataset/full/numpy_bitmap/bench.npy\n",
            "Downloading :  https://storage.googleapis.com/quickdraw_dataset/full/numpy_bitmap/bicycle.npy\n",
            "Downloading :  https://storage.googleapis.com/quickdraw_dataset/full/numpy_bitmap/binoculars.npy\n",
            "Downloading :  https://storage.googleapis.com/quickdraw_dataset/full/numpy_bitmap/bird.npy\n",
            "Downloading :  https://storage.googleapis.com/quickdraw_dataset/full/numpy_bitmap/blackberry.npy\n",
            "Downloading :  https://storage.googleapis.com/quickdraw_dataset/full/numpy_bitmap/blueberry.npy\n",
            "Downloading :  https://storage.googleapis.com/quickdraw_dataset/full/numpy_bitmap/book.npy\n",
            "Downloading :  https://storage.googleapis.com/quickdraw_dataset/full/numpy_bitmap/boomerang.npy\n",
            "Downloading :  https://storage.googleapis.com/quickdraw_dataset/full/numpy_bitmap/bottlecap.npy\n",
            "Downloading :  https://storage.googleapis.com/quickdraw_dataset/full/numpy_bitmap/bowtie.npy\n",
            "Downloading :  https://storage.googleapis.com/quickdraw_dataset/full/numpy_bitmap/bracelet.npy\n",
            "Downloading :  https://storage.googleapis.com/quickdraw_dataset/full/numpy_bitmap/brain.npy\n",
            "Downloading :  https://storage.googleapis.com/quickdraw_dataset/full/numpy_bitmap/bread.npy\n",
            "Downloading :  https://storage.googleapis.com/quickdraw_dataset/full/numpy_bitmap/bridge.npy\n",
            "Downloading :  https://storage.googleapis.com/quickdraw_dataset/full/numpy_bitmap/broccoli.npy\n",
            "Downloading :  https://storage.googleapis.com/quickdraw_dataset/full/numpy_bitmap/broom.npy\n",
            "Downloading :  https://storage.googleapis.com/quickdraw_dataset/full/numpy_bitmap/bucket.npy\n",
            "Downloading :  https://storage.googleapis.com/quickdraw_dataset/full/numpy_bitmap/bulldozer.npy\n",
            "Downloading :  https://storage.googleapis.com/quickdraw_dataset/full/numpy_bitmap/bus.npy\n",
            "Downloading :  https://storage.googleapis.com/quickdraw_dataset/full/numpy_bitmap/bush.npy\n",
            "Downloading :  https://storage.googleapis.com/quickdraw_dataset/full/numpy_bitmap/butterfly.npy\n",
            "Downloading :  https://storage.googleapis.com/quickdraw_dataset/full/numpy_bitmap/cactus.npy\n",
            "Downloading :  https://storage.googleapis.com/quickdraw_dataset/full/numpy_bitmap/cake.npy\n",
            "Downloading :  https://storage.googleapis.com/quickdraw_dataset/full/numpy_bitmap/calculator.npy\n",
            "Downloading :  https://storage.googleapis.com/quickdraw_dataset/full/numpy_bitmap/calendar.npy\n",
            "Downloading :  https://storage.googleapis.com/quickdraw_dataset/full/numpy_bitmap/camel.npy\n",
            "Downloading :  https://storage.googleapis.com/quickdraw_dataset/full/numpy_bitmap/camera.npy\n",
            "Downloading :  https://storage.googleapis.com/quickdraw_dataset/full/numpy_bitmap/camouflage.npy\n",
            "Downloading :  https://storage.googleapis.com/quickdraw_dataset/full/numpy_bitmap/campfire.npy\n",
            "Downloading :  https://storage.googleapis.com/quickdraw_dataset/full/numpy_bitmap/candle.npy\n",
            "Downloading :  https://storage.googleapis.com/quickdraw_dataset/full/numpy_bitmap/cannon.npy\n",
            "Downloading :  https://storage.googleapis.com/quickdraw_dataset/full/numpy_bitmap/canoe.npy\n",
            "Downloading :  https://storage.googleapis.com/quickdraw_dataset/full/numpy_bitmap/car.npy\n",
            "Downloading :  https://storage.googleapis.com/quickdraw_dataset/full/numpy_bitmap/carrot.npy\n",
            "Downloading :  https://storage.googleapis.com/quickdraw_dataset/full/numpy_bitmap/castle.npy\n",
            "Downloading :  https://storage.googleapis.com/quickdraw_dataset/full/numpy_bitmap/cat.npy\n",
            "Downloading :  https://storage.googleapis.com/quickdraw_dataset/full/numpy_bitmap/cello.npy\n",
            "Downloading :  https://storage.googleapis.com/quickdraw_dataset/full/numpy_bitmap/chair.npy\n",
            "Downloading :  https://storage.googleapis.com/quickdraw_dataset/full/numpy_bitmap/chandelier.npy\n",
            "Downloading :  https://storage.googleapis.com/quickdraw_dataset/full/numpy_bitmap/church.npy\n",
            "Downloading :  https://storage.googleapis.com/quickdraw_dataset/full/numpy_bitmap/circle.npy\n",
            "Downloading :  https://storage.googleapis.com/quickdraw_dataset/full/numpy_bitmap/clarinet.npy\n",
            "Downloading :  https://storage.googleapis.com/quickdraw_dataset/full/numpy_bitmap/clock.npy\n",
            "Downloading :  https://storage.googleapis.com/quickdraw_dataset/full/numpy_bitmap/cloud.npy\n",
            "Downloading :  https://storage.googleapis.com/quickdraw_dataset/full/numpy_bitmap/compass.npy\n",
            "Downloading :  https://storage.googleapis.com/quickdraw_dataset/full/numpy_bitmap/computer.npy\n",
            "Downloading :  https://storage.googleapis.com/quickdraw_dataset/full/numpy_bitmap/cookie.npy\n",
            "Downloading :  https://storage.googleapis.com/quickdraw_dataset/full/numpy_bitmap/cooler.npy\n",
            "Downloading :  https://storage.googleapis.com/quickdraw_dataset/full/numpy_bitmap/couch.npy\n",
            "Downloading :  https://storage.googleapis.com/quickdraw_dataset/full/numpy_bitmap/cow.npy\n",
            "Downloading :  https://storage.googleapis.com/quickdraw_dataset/full/numpy_bitmap/crab.npy\n",
            "Downloading :  https://storage.googleapis.com/quickdraw_dataset/full/numpy_bitmap/crayon.npy\n",
            "Downloading :  https://storage.googleapis.com/quickdraw_dataset/full/numpy_bitmap/crocodile.npy\n",
            "Downloading :  https://storage.googleapis.com/quickdraw_dataset/full/numpy_bitmap/crown.npy\n",
            "Downloading :  https://storage.googleapis.com/quickdraw_dataset/full/numpy_bitmap/cup.npy\n",
            "Downloading :  https://storage.googleapis.com/quickdraw_dataset/full/numpy_bitmap/diamond.npy\n",
            "Downloading :  https://storage.googleapis.com/quickdraw_dataset/full/numpy_bitmap/dishwasher.npy\n",
            "Downloading :  https://storage.googleapis.com/quickdraw_dataset/full/numpy_bitmap/dog.npy\n",
            "Downloading :  https://storage.googleapis.com/quickdraw_dataset/full/numpy_bitmap/dolphin.npy\n",
            "Downloading :  https://storage.googleapis.com/quickdraw_dataset/full/numpy_bitmap/donut.npy\n",
            "Downloading :  https://storage.googleapis.com/quickdraw_dataset/full/numpy_bitmap/door.npy\n",
            "Downloading :  https://storage.googleapis.com/quickdraw_dataset/full/numpy_bitmap/dragon.npy\n",
            "Downloading :  https://storage.googleapis.com/quickdraw_dataset/full/numpy_bitmap/dresser.npy\n",
            "Downloading :  https://storage.googleapis.com/quickdraw_dataset/full/numpy_bitmap/drill.npy\n",
            "Downloading :  https://storage.googleapis.com/quickdraw_dataset/full/numpy_bitmap/drums.npy\n",
            "Downloading :  https://storage.googleapis.com/quickdraw_dataset/full/numpy_bitmap/duck.npy\n",
            "Downloading :  https://storage.googleapis.com/quickdraw_dataset/full/numpy_bitmap/dumbbell.npy\n",
            "Downloading :  https://storage.googleapis.com/quickdraw_dataset/full/numpy_bitmap/ear.npy\n",
            "Downloading :  https://storage.googleapis.com/quickdraw_dataset/full/numpy_bitmap/elbow.npy\n",
            "Downloading :  https://storage.googleapis.com/quickdraw_dataset/full/numpy_bitmap/elephant.npy\n",
            "Downloading :  https://storage.googleapis.com/quickdraw_dataset/full/numpy_bitmap/envelope.npy\n",
            "Downloading :  https://storage.googleapis.com/quickdraw_dataset/full/numpy_bitmap/eraser.npy\n",
            "Downloading :  https://storage.googleapis.com/quickdraw_dataset/full/numpy_bitmap/eye.npy\n",
            "Downloading :  https://storage.googleapis.com/quickdraw_dataset/full/numpy_bitmap/eyeglasses.npy\n"
          ]
        }
      ],
      "source": [
        "classes = [\"airplane\", \"ambulance\", \"angel\", \"ant\", \"anvil\", \"apple\", \"arm\", \"asparagus\", \"axe\", \"backpack\", \"banana\", \"bandage\", \"barn\", \"baseball\", \"basket\", \"basketball\", \"bat\", \"bathtub\", \"beach\", \"bear\", \"beard\", \"bed\", \"bee\", \"belt\", \"bench\", \"bicycle\", \"binoculars\", \"bird\", \"birthday cake\", \"blackberry\", \"blueberry\", \"book\", \"boomerang\", \"bottlecap\", \"bowtie\", \"bracelet\", \"brain\", \"bread\", \"bridge\", \"broccoli\", \"broom\", \"bucket\", \"bulldozer\", \"bus\", \"bush\", \"butterfly\", \"cactus\", \"cake\", \"calculator\", \"calendar\", \"camel\", \"camera\", \"camouflage\", \"campfire\", \"candle\", \"cannon\", \"canoe\", \"car\", \"carrot\", \"castle\", \"cat\", \"cello\", \"chair\", \"chandelier\", \"church\", \"circle\", \"clarinet\", \"clock\", \"cloud\", \"coffee cup\", \"compass\", \"computer\", \"cookie\", \"cooler\", \"couch\", \"cow\", \"crab\", \"crayon\", \"crocodile\", \"crown\", \"cup\", \"diamond\", \"dishwasher\", \"dog\", \"dolphin\", \"donut\", \"door\", \"dragon\", \"dresser\", \"drill\", \"drums\", \"duck\", \"dumbbell\", \"ear\", \"elbow\", \"elephant\", \"envelope\", \"eraser\", \"eye\", \"eyeglasses\", \"face\", \"fan\", \"feather\", \"fence\", \"finger\", \"fireplace\", \"firetruck\", \"fish\", \"flamingo\", \"flashlight\", \"flower\", \"foot\", \"fork\", \"frog\", \"garden\", \"giraffe\", \"goatee\", \"grapes\", \"grass\", \"guitar\", \"hamburger\", \"hammer\", \"hand\", \"harp\", \"hat\", \"headphones\", \"hedgehog\", \"helicopter\", \"helmet\", \"hexagon\", \"hockey stick\", \"horse\", \"hospital\", \"hourglass\", \"house\", \"hurricane\", \"jacket\", \"jail\", \"kangaroo\", \"key\", \"keyboard\", \"knee\", \"knife\", \"ladder\", \"lantern\", \"laptop\", \"leaf\", \"leg\", \"lighter\", \"lighthouse\", \"lightning\", \"line\", \"lion\", \"lipstick\", \"lobster\", \"lollipop\", \"mailbox\", \"map\", \"marker\", \"matches\", \"megaphone\", \"mermaid\", \"microphone\", \"microwave\", \"monkey\", \"moon\", \"mosquito\", \"motorbike\", \"mountain\", \"mouse\", \"moustache\", \"mouth\", \"mug\", \"mushroom\", \"nail\", \"necklace\", \"nose\", \"ocean\", \"octagon\", \"octopus\", \"onion\", \"oven\", \"owl\", \"paintbrush\", \"paint can\", \"palm tree\", \"panda\", \"pants\", \"parachute\", \"parrot\", \"passport\", \"peanut\", \"pear\", \"peas\", \"pencil\", \"penguin\", \"piano\", \"pig\", \"pillow\", \"pineapple\", \"pizza\", \"pliers\", \"pond\", \"pool\", \"popsicle\", \"postcard\", \"potato\", \"purse\", \"rabbit\", \"raccoon\", \"radio\", \"rain\", \"rainbow\", \"rake\", \"rhinoceros\", \"rifle\", \"river\", \"rollerskates\", \"sailboat\", \"sandwich\", \"saw\", \"saxophone\", \"school bus\", \"scissors\", \"scorpion\", \"screwdriver\", \"sea turtle\", \"shark\", \"sheep\", \"shoe\", \"shorts\", \"shovel\", \"sink\", \"skateboard\", \"skull\", \"skyscraper\", \"smiley face\", \"snail\", \"snake\", \"snorkel\", \"snowflake\", \"snowman\", \"sock\", \"speedboat\", \"spider\", \"spoon\", \"spreadsheet\", \"square\", \"squiggle\", \"squirrel\", \"stairs\", \"star\", \"steak\", \"stereo\", \"stethoscope\", \"stitches\", \"stove\", \"strawberry\", \"streetlight\", \"string bean\", \"submarine\", \"suitcase\", \"sun\", \"swan\", \"sweater\", \"swing set\", \"sword\", \"syringe\", \"table\", \"teapot\", \"teddy-bear\", \"telephone\", \"television\", \"tennis racquet\", \"tent\", \"The Eiffel Tower\", \"The Great Wall of China\", \"The Mona Lisa\", \"tiger\", \"toaster\", \"toe\", \"toilet\", \"tooth\", \"toothbrush\", \"toothpaste\", \"tornado\", \"tractor\", \"traffic light\", \"train\", \"tree\", \"triangle\", \"trombone\", \"truck\", \"trumpet\", \"t-shirt\", \"umbrella\", \"underwear\", \"van\", \"vase\", \"violin\", \"washing machine\", \"watermelon\", \"waterslide\", \"whale\", \"wheel\", \"windmill\", \"wine bottle\", \"wine glass\", \"wristwatch\", \"yoga\", \"zebra\", \"zigzag\"]\n",
        "\n",
        "url = 'https://storage.googleapis.com/quickdraw_dataset/full/numpy_bitmap/'\n",
        "\n",
        "for class_ in classes[:100]:\n",
        "\tif(\" \" in class_):\n",
        "\t\tcontinue\n",
        "\tcomplete_url = url+class_+\".npy\"\n",
        "\tprint(\"Downloading : \",complete_url)\n",
        "\turllib.request.urlretrieve(complete_url, quickdraw_dataset_path +\"/\"+class_+\".npy\")"
      ]
    },
    {
      "cell_type": "code",
      "execution_count": null,
      "metadata": {
        "colab": {
          "base_uri": "https://localhost:8080/"
        },
        "id": "UlgbYrCBqg30",
        "outputId": "99183bd6-f997-46b9-96d1-31eeb2b30443"
      },
      "outputs": [
        {
          "name": "stdout",
          "output_type": "stream",
          "text": [
            "98\n"
          ]
        }
      ],
      "source": [
        "data_sets = glob.glob(os.path.join('/content/drive/MyDrive/CV_Datasets/Quick_Draw/*.npy'))\n",
        "print(len(data_sets))\n",
        "data_sets = data_sets[:20]"
      ]
    },
    {
      "cell_type": "markdown",
      "metadata": {
        "id": "GVURw9esbMot"
      },
      "source": [
        "## Image Enhancement "
      ]
    },
    {
      "cell_type": "markdown",
      "metadata": {
        "id": "896xs4BkgP-x"
      },
      "source": [
        "### Denoising"
      ]
    },
    {
      "cell_type": "code",
      "execution_count": null,
      "metadata": {
        "id": "0AtQWww2gP4W"
      },
      "outputs": [],
      "source": [
        "def denoise_image(image):\n",
        "  \n",
        "    # gray = cv2.cvtColor(image, cv2.COLOR_BGR2GRAY)\n",
        "    denoised = cv2.medianBlur(image, 3)\n",
        " \n",
        "    if len(image.shape) == 3:\n",
        "        denoised = cv2.cvtColor(denoised, cv2.COLOR_GRAY2BGR)\n",
        "    \n",
        "    return denoised"
      ]
    },
    {
      "cell_type": "code",
      "execution_count": null,
      "metadata": {
        "id": "qZ0x7_THiGU7"
      },
      "outputs": [],
      "source": [
        "denoised_x_train=[]\n",
        "for img in x_train_reshaped:\n",
        "  cv2.imwrite('color_img.jpg', img)\n",
        "  x=cv2.imread(\"color_img.jpg\", cv2.IMREAD_GRAYSCALE)\n",
        "  x=denoise_image(x)\n",
        "  denoised_x_train.append(x)\n",
        "\n",
        "\n",
        "denoised_x_train=np.array(denoised_x_train)\n",
        "denoised_x_train=denoised_x_train.reshape(-1,784)"
      ]
    },
    {
      "cell_type": "code",
      "execution_count": null,
      "metadata": {
        "id": "Zh0UDzE_fBAU"
      },
      "outputs": [],
      "source": [
        "denoised_x_test=[]\n",
        "for img in x_test_reshaped:\n",
        "  cv2.imwrite('color_img.jpg', img)\n",
        "  x=cv2.imread(\"color_img.jpg\", cv2.IMREAD_GRAYSCALE)\n",
        "  x=denoise_image(x)\n",
        "  denoised_x_test.append(x)\n",
        "\n",
        "\n",
        "denoised_x_test=np.array(denoised_x_test)\n",
        "denoised_x_test=denoised_x_test.reshape(-1,784)"
      ]
    },
    {
      "cell_type": "markdown",
      "metadata": {
        "id": "tnaU6ot0gPzF"
      },
      "source": [
        "### Contrast Enhancement"
      ]
    },
    {
      "cell_type": "code",
      "execution_count": null,
      "metadata": {
        "id": "3nf-Q707gPul"
      },
      "outputs": [],
      "source": [
        "def enhance_contrast(image):\n",
        "    equalized = cv2.equalizeHist(image)\n",
        "    \n",
        "    return equalized"
      ]
    },
    {
      "cell_type": "code",
      "execution_count": null,
      "metadata": {
        "id": "fKEAzyQGi0yc"
      },
      "outputs": [],
      "source": [
        "contrast_x_train=[]\n",
        "for img in x_train_reshaped:\n",
        "  cv2.imwrite('color_img.jpg', img)\n",
        "  x=cv2.imread(\"color_img.jpg\", cv2.IMREAD_GRAYSCALE)\n",
        "  x=enhance_contrast(x)\n",
        "  contrast_x_train.append(x)\n",
        "contrast_x_train=np.array(contrast_x_train)\n",
        "contrast_x_train=contrast_x_train.reshape(-1,784)"
      ]
    },
    {
      "cell_type": "code",
      "execution_count": null,
      "metadata": {
        "id": "vD-VBcJAfJPv"
      },
      "outputs": [],
      "source": [
        "contrast_x_test=[]\n",
        "for img in x_test_reshaped:\n",
        "  cv2.imwrite('color_img.jpg', img)\n",
        "  x=cv2.imread(\"color_img.jpg\", cv2.IMREAD_GRAYSCALE)\n",
        "  x=denoise_image(x)\n",
        "  contrast_x_test.append(x)\n",
        "\n",
        "\n",
        "contrast_x_test=np.array(contrast_x_test)\n",
        "contrast_x_test=contrast_x_test.reshape(-1,784)"
      ]
    },
    {
      "cell_type": "markdown",
      "metadata": {
        "id": "kbliZI4OgPpL"
      },
      "source": [
        "### Filtering "
      ]
    },
    {
      "cell_type": "code",
      "execution_count": null,
      "metadata": {
        "id": "y44qgUXcgPjz"
      },
      "outputs": [],
      "source": [
        "def apply_filter(image, filter_type, kernel_size):\n",
        "    \n",
        "    if filter_type == 'gaussian':\n",
        "        kernel = cv2.getGaussianKernel(kernel_size, 0)\n",
        "        kernel = np.outer(kernel, kernel.transpose())\n",
        "    elif filter_type == 'sobel_x':\n",
        "        kernel = np.array([[-1, 0, 1],\n",
        "                           [-2, 0, 2],\n",
        "                           [-1, 0, 1]])\n",
        "    elif filter_type == 'sobel_y':\n",
        "        kernel = np.array([[-1, -2, -1],\n",
        "                           [0, 0, 0],\n",
        "                           [1, 2, 1]])\n",
        "    elif filter_type == 'laplacian':\n",
        "        kernel = np.array([[0, 1, 0],\n",
        "                           [1, -4, 1],\n",
        "                           [0, 1, 0]])\n",
        "    else:\n",
        "        raise ValueError('Invalid filter type')\n",
        "    \n",
        "    filtered = cv2.filter2D(image, -1, kernel)\n",
        "    \n",
        "    return filtered"
      ]
    },
    {
      "cell_type": "code",
      "execution_count": null,
      "metadata": {
        "id": "18Jbv4AajaF9"
      },
      "outputs": [],
      "source": [
        "filter_x_train=[]\n",
        "for img in x_train_reshaped:\n",
        "  cv2.imwrite('color_img.jpg', img)\n",
        "  x=cv2.imread(\"color_img.jpg\", cv2.IMREAD_GRAYSCALE)\n",
        "  x=apply_filter(x,'gaussian', 3)\n",
        "  filter_x_train.append(x)\n",
        "filter_x_train=np.array(filter_x_train)\n",
        "filter_x_train=filter_x_train.reshape(-1,784)"
      ]
    },
    {
      "cell_type": "code",
      "execution_count": null,
      "metadata": {
        "id": "FPkJ43NFfOSj"
      },
      "outputs": [],
      "source": [
        "filter_x_test=[]\n",
        "for img in x_test_reshaped:\n",
        "  cv2.imwrite('color_img.jpg', img)\n",
        "  x=cv2.imread(\"color_img.jpg\", cv2.IMREAD_GRAYSCALE)\n",
        "  x=denoise_image(x)\n",
        "  filter_x_test.append(x)\n",
        "\n",
        "\n",
        "filter_x_test=np.array(filter_x_test)\n",
        "filter_x_test=filter_x_test.reshape(-1,784)"
      ]
    },
    {
      "cell_type": "markdown",
      "metadata": {
        "id": "MBNz4flVgPeT"
      },
      "source": [
        "### CLAHE Image Processing"
      ]
    },
    {
      "cell_type": "code",
      "execution_count": null,
      "metadata": {
        "id": "_Hw5_c2ugPJY"
      },
      "outputs": [],
      "source": [
        "def apply_clahe(image, clip_limit=2.0, tile_size=(8, 8)):\n",
        "\n",
        "    clahe = cv2.createCLAHE(clipLimit=clip_limit, tileGridSize=tile_size)\n",
        "    enhanced = clahe.apply(image)\n",
        "    \n",
        "    return enhanced"
      ]
    },
    {
      "cell_type": "code",
      "execution_count": null,
      "metadata": {
        "id": "ekuXBDXEjaaI"
      },
      "outputs": [],
      "source": [
        "clahe_x_train=[]\n",
        "for img in x_train_reshaped:\n",
        "  cv2.imwrite('color_img.jpg', img)\n",
        "  x=cv2.imread(\"color_img.jpg\", cv2.IMREAD_GRAYSCALE)\n",
        "  x=apply_clahe(x)\n",
        "  clahe_x_train.append(x)\n",
        "clahe_x_train=np.array(clahe_x_train)\n",
        "clahe_x_train=clahe_x_train.reshape(-1,784)"
      ]
    },
    {
      "cell_type": "code",
      "execution_count": null,
      "metadata": {
        "id": "DfcJOcbffUAb"
      },
      "outputs": [],
      "source": [
        "clahe_x_test=[]\n",
        "for img in x_test_reshaped:\n",
        "  cv2.imwrite('color_img.jpg', img)\n",
        "  x=cv2.imread(\"color_img.jpg\", cv2.IMREAD_GRAYSCALE)\n",
        "  x=denoise_image(x)\n",
        "  clahe_x_test.append(x)\n",
        "\n",
        "\n",
        "clahe_x_test=np.array(clahe_x_test)\n",
        "clahe_x_test=clahe_x_test.reshape(-1,784)"
      ]
    },
    {
      "cell_type": "markdown",
      "metadata": {
        "id": "NPFVQKPcgh-W"
      },
      "source": [
        "### Image Smoothening & Sharpening"
      ]
    },
    {
      "cell_type": "code",
      "execution_count": null,
      "metadata": {
        "id": "gZPFPNqGghuT"
      },
      "outputs": [],
      "source": [
        "def smooth_and_sharpen(image):\n",
        "    blurred = cv2.GaussianBlur(image, (5,5), 0)\n",
        "    laplacian = cv2.Laplacian(blurred, cv2.CV_8U, ksize=3)\n",
        "    \n",
        "    sharpened = cv2.addWeighted(image, 1.5, laplacian, -0.5, 0)\n",
        "    \n",
        "    return sharpened"
      ]
    },
    {
      "cell_type": "code",
      "execution_count": null,
      "metadata": {
        "id": "zoEbL9l0cgws"
      },
      "outputs": [],
      "source": [
        "sharp_x_train=[]\n",
        "for img in x_train_reshaped:\n",
        "  cv2.imwrite('color_img.jpg', img)\n",
        "  x=cv2.imread(\"color_img.jpg\", cv2.IMREAD_GRAYSCALE)\n",
        "  x=apply_clahe(x)\n",
        "  sharp_x_train.append(x)\n",
        "sharp_x_train=np.array(sharp_x_train)\n",
        "sharp_x_train=sharp_x_train.reshape(-1,784)"
      ]
    },
    {
      "cell_type": "code",
      "execution_count": null,
      "metadata": {
        "id": "0XRmy6BgfYGz"
      },
      "outputs": [],
      "source": [
        "sharp_x_test=[]\n",
        "for img in x_test_reshaped:\n",
        "  cv2.imwrite('color_img.jpg', img)\n",
        "  x=cv2.imread(\"color_img.jpg\", cv2.IMREAD_GRAYSCALE)\n",
        "  x=denoise_image(x)\n",
        "  sharp_x_test.append(x)\n",
        "\n",
        "\n",
        "sharp_x_test=np.array(sharp_x_test)\n",
        "sharp_x_test=sharp_x_test.reshape(-1,784)"
      ]
    },
    {
      "cell_type": "markdown",
      "metadata": {
        "id": "7rQcTK--bMgU"
      },
      "source": [
        "## Feature Extraction "
      ]
    },
    {
      "cell_type": "code",
      "execution_count": null,
      "metadata": {
        "id": "PrVCYVJyj9Aw"
      },
      "outputs": [],
      "source": [
        "features ={}"
      ]
    },
    {
      "cell_type": "markdown",
      "metadata": {
        "id": "VOyY8G7hnqSf"
      },
      "source": [
        "### Horizontal Projection"
      ]
    },
    {
      "cell_type": "code",
      "execution_count": null,
      "metadata": {
        "id": "_0whxXN0bJWN"
      },
      "outputs": [],
      "source": [
        "def horizontal_projection(im):\n",
        "  img = 255 - im\n",
        "  proj = np.sum(img,1)\n",
        "  m = np.max(proj)\n",
        "  w = 28\n",
        "  result = np.zeros((proj.shape[0],28))\n",
        "  for row in range(img.shape[0]):\n",
        "   cv2.line(result, (0,row), (int(proj[row]*w/m),row), (255,255,255), 1)\n",
        "  return result"
      ]
    },
    {
      "cell_type": "code",
      "execution_count": null,
      "metadata": {
        "id": "4hrpLF_RYExq"
      },
      "outputs": [],
      "source": [
        "features[\"Horizontal Projection\"]=horizontal_projection(x_train_reshaped[0])"
      ]
    },
    {
      "cell_type": "code",
      "execution_count": null,
      "metadata": {
        "id": "3h9h6MCTY1in"
      },
      "outputs": [],
      "source": [
        "hp_x_train=[]\n",
        "for img in x_train_reshaped:\n",
        "  x=horizontal_projection(img)\n",
        "  hp_x_train.append(x)\n",
        "hp_x_train=np.array(hp_x_train)\n",
        "hp_x_train=hp_x_train.reshape(-1,784)"
      ]
    },
    {
      "cell_type": "markdown",
      "metadata": {
        "id": "Ts7fACd5ntsO"
      },
      "source": [
        "###Shape Detection"
      ]
    },
    {
      "cell_type": "code",
      "execution_count": null,
      "metadata": {
        "id": "4P7rrXb5nwVu"
      },
      "outputs": [],
      "source": [
        "def detect_shapes(img):\n",
        "    img = cv2.resize(img, (28, 28))\n",
        "\n",
        "    if len(img.shape) == 3:\n",
        "        gray = cv2.cvtColor(img, cv2.COLOR_BGR2GRAY)\n",
        "    else:\n",
        "        gray = img\n",
        "    edges = cv2.Canny(img, 100, 200)\n",
        "    contours, _ = cv2.findContours(edges, cv2.RETR_EXTERNAL, cv2.CHAIN_APPROX_SIMPLE)\n",
        "\n",
        "    features = []\n",
        "\n",
        "    for contour in contours:\n",
        "   \n",
        "        area = cv2.contourArea(contour)\n",
        "        if area < 5:\n",
        "            continue\n",
        "\n",
        "\n",
        "        perimeter = cv2.arcLength(contour, True)\n",
        "\n",
        "        circularity = 4 * 3.14 * (area / (perimeter * perimeter))\n",
        "        features.append(circularity)\n",
        "\n",
        "    return features"
      ]
    },
    {
      "cell_type": "code",
      "execution_count": null,
      "metadata": {
        "id": "wXcWh2oDYURK"
      },
      "outputs": [],
      "source": [
        "features[\"Shape Detection\"]=detect_shapes(x_train_reshaped[0])"
      ]
    },
    {
      "cell_type": "markdown",
      "metadata": {
        "id": "GBDpCcDrpY8O"
      },
      "source": [
        "###Corners"
      ]
    },
    {
      "cell_type": "code",
      "execution_count": null,
      "metadata": {
        "id": "-xEm7LMApZaJ"
      },
      "outputs": [],
      "source": [
        "from skimage.color.colorconv import gray2rgba\n",
        "def extract_corners(image):\n",
        "    gray =cv2.cvtColor(image, cv2.COLOR_BGR2GRAY)\n",
        "\n",
        "    max_corners = 100\n",
        "    quality_level = 0.3\n",
        "    min_distance = 7\n",
        "    block_size = 7\n",
        "\n",
        "    corners = cv2.goodFeaturesToTrack(gray, 27, 0.01, 10)\n",
        "    corners = np.int0(corners)\n",
        "    for i in corners:\n",
        "      x, y = i.ravel()\n",
        "      cv2.circle(gray, (x, y), 3, 255, -1)\n",
        "        \n",
        "    return gray"
      ]
    },
    {
      "cell_type": "code",
      "execution_count": null,
      "metadata": {
        "id": "mHOMQ55mdx66"
      },
      "outputs": [],
      "source": [
        "features[\"Corner Detection\"]=extract_corners(x_train_reshaped[0])"
      ]
    },
    {
      "cell_type": "markdown",
      "metadata": {
        "id": "K41c01wsplAI"
      },
      "source": [
        "###Edges"
      ]
    },
    {
      "cell_type": "code",
      "execution_count": null,
      "metadata": {
        "id": "wg2OecdBpkdA"
      },
      "outputs": [],
      "source": [
        "\n",
        "def detect_edges(image):\n",
        "    gray = image\n",
        "\n",
        "    blurred = cv2.GaussianBlur(gray, (3, 3), 0)\n",
        "\n",
        "    edges = cv2.Canny(blurred, threshold1=30, threshold2=100)\n",
        "\n",
        "    return edges"
      ]
    },
    {
      "cell_type": "code",
      "execution_count": null,
      "metadata": {
        "id": "_NsFBJISeTw8"
      },
      "outputs": [],
      "source": [
        "features[\"Edge Detection\"]=detect_edges(x_train_reshaped[0])"
      ]
    },
    {
      "cell_type": "code",
      "execution_count": null,
      "metadata": {
        "id": "dy5g1zgkkQfg"
      },
      "outputs": [],
      "source": []
    },
    {
      "cell_type": "markdown",
      "metadata": {
        "id": "QBRcsN3spmO-"
      },
      "source": [
        "###LBP"
      ]
    },
    {
      "cell_type": "code",
      "execution_count": null,
      "metadata": {
        "id": "fZZU--x6pmm4"
      },
      "outputs": [],
      "source": [
        "def create_lbp(image):\n",
        "    \n",
        "    # gray = cv2.cvtColor(image, cv2.COLOR_BGR2GRAY)\n",
        "    gray=image\n",
        "   \n",
        "    radius = 1\n",
        "    num_neighbors = 8\n",
        "    lbp = np.zeros_like(gray)\n",
        "    for i in range(radius, gray.shape[0]-radius):\n",
        "        for j in range(radius, gray.shape[1]-radius):\n",
        "            center = gray[i,j]\n",
        "            code = 0\n",
        "            for k in range(num_neighbors):\n",
        "                angle = k * (2*np.pi/num_neighbors)\n",
        "                x = int(np.round(i + radius * np.cos(angle)))\n",
        "                y = int(np.round(j - radius * np.sin(angle)))\n",
        "                neighbor = gray[x,y]\n",
        "                if neighbor > center:\n",
        "                    code += 2**k\n",
        "            lbp[i,j] = code\n",
        "    lbp = cv2.normalize(lbp, None, 0, 255, cv2.NORM_MINMAX, cv2.CV_8U)\n",
        "\n",
        "    return lbp"
      ]
    },
    {
      "cell_type": "code",
      "execution_count": null,
      "metadata": {
        "id": "BWOaXHCanfkr"
      },
      "outputs": [],
      "source": [
        "features[\"LBP\"]=create_lbp(x_train_reshaped[0])"
      ]
    },
    {
      "cell_type": "markdown",
      "metadata": {
        "id": "mDU1YwgaoX8A"
      },
      "source": [
        "##Test 1"
      ]
    },
    {
      "cell_type": "markdown",
      "metadata": {
        "id": "ZhpdCbAJoZnz"
      },
      "source": [
        "###Loading the data"
      ]
    },
    {
      "cell_type": "code",
      "execution_count": null,
      "metadata": {
        "colab": {
          "base_uri": "https://localhost:8080/"
        },
        "id": "s-Nbroj6oZX0",
        "outputId": "45cc2fc5-6c1b-4ebf-d215-929f46136a95"
      },
      "outputs": [
        {
          "name": "stdout",
          "output_type": "stream",
          "text": [
            "['/content/drive/MyDrive/CV_Datasets/Quick_Draw/airplane.npy', '/content/drive/MyDrive/CV_Datasets/Quick_Draw/ambulance.npy', '/content/drive/MyDrive/CV_Datasets/Quick_Draw/angel.npy', '/content/drive/MyDrive/CV_Datasets/Quick_Draw/apple.npy', '/content/drive/MyDrive/CV_Datasets/Quick_Draw/anvil.npy', '/content/drive/MyDrive/CV_Datasets/Quick_Draw/ant.npy', '/content/drive/MyDrive/CV_Datasets/Quick_Draw/arm.npy', '/content/drive/MyDrive/CV_Datasets/Quick_Draw/asparagus.npy', '/content/drive/MyDrive/CV_Datasets/Quick_Draw/backpack.npy', '/content/drive/MyDrive/CV_Datasets/Quick_Draw/banana.npy', '/content/drive/MyDrive/CV_Datasets/Quick_Draw/axe.npy', '/content/drive/MyDrive/CV_Datasets/Quick_Draw/bandage.npy', '/content/drive/MyDrive/CV_Datasets/Quick_Draw/barn.npy', '/content/drive/MyDrive/CV_Datasets/Quick_Draw/baseball.npy', '/content/drive/MyDrive/CV_Datasets/Quick_Draw/basket.npy', '/content/drive/MyDrive/CV_Datasets/Quick_Draw/basketball.npy', '/content/drive/MyDrive/CV_Datasets/Quick_Draw/bathtub.npy', '/content/drive/MyDrive/CV_Datasets/Quick_Draw/bat.npy', '/content/drive/MyDrive/CV_Datasets/Quick_Draw/beach.npy', '/content/drive/MyDrive/CV_Datasets/Quick_Draw/bear.npy']\n",
            "96000\n",
            "24000\n"
          ]
        }
      ],
      "source": [
        "dataset_path = '/content/drive/MyDrive/CV_Datasets'\n",
        "data_sets = glob.glob(os.path.join('/content/drive/MyDrive/CV_Datasets/Quick_Draw/*.npy'))\n",
        "data_sets = data_sets[:20]\n",
        "print(data_sets)\n",
        "# Train data\n",
        "input = np.empty([0, 784]) \n",
        "# Test data\n",
        "labels = np.empty([0])\t\n",
        "index = 0\n",
        "\n",
        "# Concatenate the train and test data from all the files\n",
        "for file in data_sets:\n",
        "\tdata = np.load(file)\n",
        "\tdata = data[0: 6000, :]\n",
        "\tinput = np.concatenate((input, data), axis=0)\n",
        "\tlabels = np.append(labels, [index]*data.shape[0])\n",
        "\tindex += 1\n",
        "\n",
        "# K-Folds cross-validator\n",
        "n_fold = 5\n",
        "kf = KFold(n_splits=n_fold, shuffle=True, random_state=9)\n",
        "x_train, x_test, y_train, y_test = None, None, None, None\n",
        "random_ordering = np.random.permutation(input.shape[0])\n",
        "input = input[random_ordering, :]\n",
        "labels = labels[random_ordering]\n",
        "\n",
        "# Divide the dataset into train and test\n",
        "for train_index, test_index in kf.split(input):\n",
        "    x_train, x_test = input[train_index], input[test_index]\n",
        "    y_train, y_test = labels[train_index], labels[test_index]\n",
        "    break\n",
        "\n",
        "print(len(x_train))\n",
        "\n",
        "print(len(x_test))"
      ]
    },
    {
      "cell_type": "code",
      "execution_count": null,
      "metadata": {
        "colab": {
          "base_uri": "https://localhost:8080/"
        },
        "id": "X2AgWepGq0Pg",
        "outputId": "9daabf0c-dfc7-4f0c-ed14-af621c53c46d"
      },
      "outputs": [
        {
          "name": "stdout",
          "output_type": "stream",
          "text": [
            "(144000, 784)\n"
          ]
        }
      ],
      "source": [
        "print(x_train.shape)"
      ]
    },
    {
      "cell_type": "code",
      "execution_count": null,
      "metadata": {
        "id": "XyISdELtq-GS"
      },
      "outputs": [],
      "source": [
        "image_size = 28\n",
        "x_train_reshaped = x_train.reshape(x_train.shape[0], image_size, image_size)\n",
        "x_test_reshaped = x_test.reshape(x_test.shape[0], image_size, image_size)\n"
      ]
    },
    {
      "cell_type": "code",
      "execution_count": null,
      "metadata": {
        "id": "VX6hd4y5sU-P"
      },
      "outputs": [],
      "source": [
        "for i in range(16):\n",
        "  plt.grid(False)\n",
        "  plt.imshow(x_train_reshaped[i], cmap=plt.cm.binary)\n",
        "  plt.show()"
      ]
    },
    {
      "cell_type": "code",
      "execution_count": null,
      "metadata": {
        "colab": {
          "base_uri": "https://localhost:8080/"
        },
        "id": "RPlMJe7QrZPH",
        "outputId": "ab3977f5-c1ab-44e9-ee14-2bf923330231"
      },
      "outputs": [
        {
          "name": "stdout",
          "output_type": "stream",
          "text": [
            "(28, 28)\n"
          ]
        }
      ],
      "source": [
        "print(x_train_reshaped[0].shape)"
      ]
    },
    {
      "cell_type": "code",
      "execution_count": null,
      "metadata": {
        "colab": {
          "base_uri": "https://localhost:8080/"
        },
        "id": "WUjC7yb6xiJI",
        "outputId": "1ee0d75b-225a-40da-da36-fa25ea920ac7"
      },
      "outputs": [
        {
          "data": {
            "text/plain": [
              "28"
            ]
          },
          "execution_count": 83,
          "metadata": {},
          "output_type": "execute_result"
        }
      ],
      "source": [
        "len(x_train_reshaped[34])"
      ]
    },
    {
      "cell_type": "code",
      "execution_count": null,
      "metadata": {
        "colab": {
          "base_uri": "https://localhost:8080/"
        },
        "id": "0B-pAwlEydeD",
        "outputId": "fb42acee-3ad9-4f3a-f813-6f1458f2b702"
      },
      "outputs": [
        {
          "data": {
            "text/plain": [
              "True"
            ]
          },
          "execution_count": 84,
          "metadata": {},
          "output_type": "execute_result"
        }
      ],
      "source": [
        "cv2.imwrite('color_img.jpg', x_train_reshaped[10])"
      ]
    },
    {
      "cell_type": "code",
      "execution_count": null,
      "metadata": {
        "id": "NebZwh4Yym4z"
      },
      "outputs": [],
      "source": [
        "x=cv2.imread(\"color_img.jpg\", cv2.IMREAD_GRAYSCALE)"
      ]
    },
    {
      "cell_type": "code",
      "execution_count": null,
      "metadata": {
        "id": "1asqg67XtqrR"
      },
      "outputs": [],
      "source": [
        "image = cv2.imdecode(x_train_reshaped[0][0], cv2.IMREAD_GRAYSCALE)"
      ]
    },
    {
      "cell_type": "code",
      "execution_count": null,
      "metadata": {
        "colab": {
          "base_uri": "https://localhost:8080/"
        },
        "id": "uMwmao7UzCKY",
        "outputId": "fb6859bc-61c2-463b-8744-402364ab1197"
      },
      "outputs": [
        {
          "data": {
            "text/plain": [
              "(28, 28)"
            ]
          },
          "execution_count": 89,
          "metadata": {},
          "output_type": "execute_result"
        }
      ],
      "source": [
        "(x.shape)"
      ]
    },
    {
      "cell_type": "code",
      "execution_count": null,
      "metadata": {
        "colab": {
          "base_uri": "https://localhost:8080/",
          "height": 63
        },
        "id": "jPkRnQ37srym",
        "outputId": "a7908371-dd99-4c32-8063-b5e212234cbf"
      },
      "outputs": [
        {
          "data": {
            "image/png": "[encoded data removed]",
            "text/plain": [
              "<PIL.Image.Image image mode=L size=28x28 at 0x7FEAA694D7C0>"
            ]
          },
          "metadata": {},
          "output_type": "display_data"
        },
        {
          "data": {
            "text/plain": [
              "(28, 28)"
            ]
          },
          "execution_count": 87,
          "metadata": {},
          "output_type": "execute_result"
        }
      ],
      "source": [
        "cv2_imshow(x)\n",
        "\n",
        "denoised = denoise_image(x)\n",
        "# denoised = denoise_image(denoised)\n",
        "# cv2_imshow(denoised)\n",
        "denoised.shape"
      ]
    },
    {
      "cell_type": "code",
      "execution_count": null,
      "metadata": {
        "id": "bIpGOl0rzmks"
      },
      "outputs": [],
      "source": [
        "image1 = cv2.resize(denoised, (500,500), interpolation=cv2.INTER_AREA)"
      ]
    },
    {
      "cell_type": "code",
      "execution_count": null,
      "metadata": {
        "colab": {
          "base_uri": "https://localhost:8080/",
          "height": 45
        },
        "id": "Cb43Z-zqzpio",
        "outputId": "7d003339-1fe2-4284-f5b2-2b8e3b1b4c06"
      },
      "outputs": [
        {
          "data": {
            "image/png": "[encoded data removed]",
            "text/plain": [
              "<PIL.Image.Image image mode=L size=28x28 at 0x7FEAA7B339A0>"
            ]
          },
          "metadata": {},
          "output_type": "display_data"
        }
      ],
      "source": [
        "cv2_imshow(denoised)\n",
        "# image2 = cv2.resize(x, (500,500), interpolation=cv2.INTER_AREA)\n",
        "# cv2_imshow(image2)"
      ]
    },
    {
      "cell_type": "markdown",
      "metadata": {
        "id": "KVyK-pAjbLs_"
      },
      "source": [
        "## Classification Models"
      ]
    },
    {
      "cell_type": "code",
      "execution_count": null,
      "metadata": {
        "id": "WIputWpVKItO"
      },
      "outputs": [],
      "source": [
        "dic={}\n",
        "dic1={}\n",
        "dic2={}\n",
        "enchanced={}\n",
        "dic_hp={}"
      ]
    },
    {
      "cell_type": "markdown",
      "metadata": {
        "id": "OqbyIT7QoN-Y"
      },
      "source": [
        "###KNN"
      ]
    },
    {
      "cell_type": "code",
      "execution_count": null,
      "metadata": {
        "id": "jrLSYq6ybLmg"
      },
      "outputs": [],
      "source": [
        "def KNN(x_train_1d, y_train, x_test_1d,y_test):\n",
        "\n",
        "  tuning_parameters = {'n_neighbors': [1,3,5,7,9,11]}\n",
        "\n",
        "  knn = KNeighborsClassifier(n_neighbors = 5, n_jobs=-1)\n",
        "  knn.fit(x_train_1d, y_train)\n",
        "\n",
        "\n",
        "  y_pred = knn.predict(x_test_1d)\n",
        "  y_pred[:10]\n",
        "\n",
        "  accuracy = accuracy_score(y_test, y_pred)\n",
        "  print(accuracy)\n",
        "  return accuracy"
      ]
    },
    {
      "cell_type": "code",
      "execution_count": null,
      "metadata": {
        "colab": {
          "base_uri": "https://localhost:8080/"
        },
        "id": "Q_892CTREy1a",
        "outputId": "6eaf5fe6-27e7-4195-e3d7-ab785f1ef4df"
      },
      "outputs": [
        {
          "name": "stdout",
          "output_type": "stream",
          "text": [
            "0.6771666666666667\n"
          ]
        }
      ],
      "source": [
        "dic['KNN']=KNN(x_train,y_train,x_test,y_test)"
      ]
    },
    {
      "cell_type": "code",
      "execution_count": null,
      "metadata": {
        "colab": {
          "base_uri": "https://localhost:8080/"
        },
        "id": "-HiB1Mb6YnUT",
        "outputId": "c1b8105d-0586-4a7e-bf4a-db870b72d2ea"
      },
      "outputs": [
        {
          "name": "stdout",
          "output_type": "stream",
          "text": [
            "0.660375\n"
          ]
        }
      ],
      "source": [
        "dic1['KNN']=KNN(flip_x_train,y_train,x_test,y_test)"
      ]
    },
    {
      "cell_type": "code",
      "execution_count": null,
      "metadata": {
        "colab": {
          "base_uri": "https://localhost:8080/"
        },
        "id": "241qfVTTYnId",
        "outputId": "35dbfc38-3d24-4310-e9e5-22af0bbf9219"
      },
      "outputs": [
        {
          "name": "stdout",
          "output_type": "stream",
          "text": [
            "0.6985\n"
          ]
        }
      ],
      "source": [
        "dic2['KNN']=KNN(rotated_x_train,y_train,x_test,y_test)"
      ]
    },
    {
      "cell_type": "markdown",
      "metadata": {
        "id": "5x2EonLCo3ZN"
      },
      "source": [
        "###Logictic Regression"
      ]
    },
    {
      "cell_type": "code",
      "execution_count": null,
      "metadata": {
        "id": "es8JGTybo6Te"
      },
      "outputs": [],
      "source": [
        "def LogisticReg(x_train_1d, y_train, x_test_1d,y_test):\n",
        "  clf = LogisticRegression(random_state=0)\n",
        "  # knn = GridSearchCV(clf_knn, tuning_parameters, n_jobs=-1)\n",
        "  clf.fit(x_train_1d, y_train)\n",
        "\n",
        "  y_pred = clf.predict(x_test_1d)\n",
        "  y_pred[:10]\n",
        "  accuracy = accuracy_score(y_test, y_pred)\n",
        "  print(accuracy)\n",
        "  return accuracy"
      ]
    },
    {
      "cell_type": "code",
      "execution_count": null,
      "metadata": {
        "colab": {
          "base_uri": "https://localhost:8080/"
        },
        "id": "XOKzchpmLE_Z",
        "outputId": "584a04fd-7917-41f4-a77a-aa16a3adf208"
      },
      "outputs": [
        {
          "name": "stdout",
          "output_type": "stream",
          "text": [
            "0.516625\n"
          ]
        },
        {
          "name": "stderr",
          "output_type": "stream",
          "text": [
            "/usr/local/lib/python3.9/dist-packages/sklearn/linear_model/_logistic.py:458: ConvergenceWarning: lbfgs failed to converge (status=1):\n",
            "STOP: TOTAL NO. of ITERATIONS REACHED LIMIT.\n",
            "\n",
            "Increase the number of iterations (max_iter) or scale the data as shown in:\n",
            "    https://scikit-learn.org/stable/modules/preprocessing.html\n",
            "Please also refer to the documentation for alternative solver options:\n",
            "    https://scikit-learn.org/stable/modules/linear_model.html#logistic-regression\n",
            "  n_iter_i = _check_optimize_result(\n"
          ]
        }
      ],
      "source": [
        "dic['Logistic Regression']=LogisticReg(x_train,y_train,x_test,y_test)"
      ]
    },
    {
      "cell_type": "code",
      "execution_count": null,
      "metadata": {
        "colab": {
          "base_uri": "https://localhost:8080/"
        },
        "id": "GIeCsXmyYw60",
        "outputId": "72d834a5-c968-4bb3-80c1-217b874b65f9"
      },
      "outputs": [
        {
          "name": "stdout",
          "output_type": "stream",
          "text": [
            "0.4861666666666667\n"
          ]
        },
        {
          "name": "stderr",
          "output_type": "stream",
          "text": [
            "/usr/local/lib/python3.9/dist-packages/sklearn/linear_model/_logistic.py:458: ConvergenceWarning: lbfgs failed to converge (status=1):\n",
            "STOP: TOTAL NO. of ITERATIONS REACHED LIMIT.\n",
            "\n",
            "Increase the number of iterations (max_iter) or scale the data as shown in:\n",
            "    https://scikit-learn.org/stable/modules/preprocessing.html\n",
            "Please also refer to the documentation for alternative solver options:\n",
            "    https://scikit-learn.org/stable/modules/linear_model.html#logistic-regression\n",
            "  n_iter_i = _check_optimize_result(\n"
          ]
        }
      ],
      "source": [
        "dic1['Logistic Regression']=LogisticReg(flip_x_train,y_train,x_test,y_test)"
      ]
    },
    {
      "cell_type": "code",
      "execution_count": null,
      "metadata": {
        "colab": {
          "base_uri": "https://localhost:8080/"
        },
        "id": "RzhLzF7OY0DN",
        "outputId": "2a90377d-894e-418a-8f4b-eedd9975c967"
      },
      "outputs": [
        {
          "name": "stdout",
          "output_type": "stream",
          "text": [
            "0.48704166666666665\n"
          ]
        },
        {
          "name": "stderr",
          "output_type": "stream",
          "text": [
            "/usr/local/lib/python3.9/dist-packages/sklearn/linear_model/_logistic.py:458: ConvergenceWarning: lbfgs failed to converge (status=1):\n",
            "STOP: TOTAL NO. of ITERATIONS REACHED LIMIT.\n",
            "\n",
            "Increase the number of iterations (max_iter) or scale the data as shown in:\n",
            "    https://scikit-learn.org/stable/modules/preprocessing.html\n",
            "Please also refer to the documentation for alternative solver options:\n",
            "    https://scikit-learn.org/stable/modules/linear_model.html#logistic-regression\n",
            "  n_iter_i = _check_optimize_result(\n"
          ]
        }
      ],
      "source": [
        "dic2['Logistic Regression']=LogisticReg(rotated_x_train,y_train,x_test,y_test)"
      ]
    },
    {
      "cell_type": "markdown",
      "metadata": {
        "id": "o8PEc7bho8lb"
      },
      "source": [
        "###Naive Bayes"
      ]
    },
    {
      "cell_type": "code",
      "execution_count": null,
      "metadata": {
        "id": "U4ZPjDKSpBaL"
      },
      "outputs": [],
      "source": [
        "def NaiveBayes(x_train_1d, y_train, x_test_1d,y_test):\n",
        "  clf = GaussianNB()\n",
        "  # knn = GridSearchCV(clf_knn, tuning_parameters, n_jobs=-1)\n",
        "  clf.fit(x_train_1d, y_train)\n",
        "\n",
        "  y_pred = clf.predict(x_test_1d)\n",
        "  y_pred[:10]\n",
        "\n",
        "  accuracy = accuracy_score(y_test, y_pred)\n",
        "  print(accuracy)\n",
        "  return accuracy"
      ]
    },
    {
      "cell_type": "code",
      "execution_count": null,
      "metadata": {
        "colab": {
          "base_uri": "https://localhost:8080/"
        },
        "id": "aJCaPMY9LPsV",
        "outputId": "46adc7e6-7212-48c7-b222-d280d157e5eb"
      },
      "outputs": [
        {
          "name": "stdout",
          "output_type": "stream",
          "text": [
            "0.3536666666666667\n"
          ]
        }
      ],
      "source": [
        "dic['Naive Bayes']=NaiveBayes(x_train,y_train,x_test,y_test)"
      ]
    },
    {
      "cell_type": "code",
      "execution_count": null,
      "metadata": {
        "colab": {
          "base_uri": "https://localhost:8080/"
        },
        "id": "JgsBioYhXSKT",
        "outputId": "b0997201-dd41-4f43-f154-ba4385f5337d"
      },
      "outputs": [
        {
          "name": "stdout",
          "output_type": "stream",
          "text": [
            "0.3358333333333333\n"
          ]
        }
      ],
      "source": [
        "dic1['Naive Bayes']=NaiveBayes(flip_x_train,y_train,x_test,y_test)"
      ]
    },
    {
      "cell_type": "code",
      "execution_count": null,
      "metadata": {
        "colab": {
          "base_uri": "https://localhost:8080/"
        },
        "id": "Jkj02UVGZGZK",
        "outputId": "c5689e09-cbe2-43d1-c56b-2c5a84ba2d17"
      },
      "outputs": [
        {
          "name": "stdout",
          "output_type": "stream",
          "text": [
            "0.34791666666666665\n"
          ]
        }
      ],
      "source": [
        "dic2['Naive Bayes']=NaiveBayes(rotated_x_train,y_train,x_test,y_test)"
      ]
    },
    {
      "cell_type": "markdown",
      "metadata": {
        "id": "mvLvTtBVpBwH"
      },
      "source": [
        "###Random Forest"
      ]
    },
    {
      "cell_type": "code",
      "execution_count": null,
      "metadata": {
        "id": "A3BjpqYYpFKZ"
      },
      "outputs": [],
      "source": [
        "def RandomForest(x_train_1d, y_train, x_test_1d,y_test):\n",
        "\n",
        "  parameters = {'n_estimators': [100,120,140,160]}\n",
        "\n",
        "  clf_rf = RandomForestClassifier(n_estimators = 150, n_jobs=-1, random_state=0)\n",
        "  # model = GridSearchCV(clf_rf, parameters, n_jobs=-1)\n",
        "  clf_rf.fit(x_train_1d, y_train)\n",
        "\n",
        "\n",
        "\n",
        "  y_pred = clf_rf.predict(x_test_1d)\n",
        "  y_pred[:10]\n",
        "\n",
        "  accuracy = accuracy_score(y_test, y_pred)\n",
        "  print(accuracy)\n",
        "  return accuracy"
      ]
    },
    {
      "cell_type": "code",
      "execution_count": null,
      "metadata": {
        "colab": {
          "base_uri": "https://localhost:8080/"
        },
        "id": "h5CtRT8JLTCZ",
        "outputId": "0fe8d0f2-fb7d-4c88-e51b-efaae3f9d9be"
      },
      "outputs": [
        {
          "name": "stdout",
          "output_type": "stream",
          "text": [
            "0.7051666666666667\n"
          ]
        }
      ],
      "source": [
        "dic['Random Forest']=RandomForest(x_train,y_train,x_test,y_test)"
      ]
    },
    {
      "cell_type": "code",
      "execution_count": null,
      "metadata": {
        "colab": {
          "base_uri": "https://localhost:8080/"
        },
        "id": "14HgbAfYZKNt",
        "outputId": "9320c0eb-282d-4648-be84-d9e31b156f29"
      },
      "outputs": [
        {
          "name": "stdout",
          "output_type": "stream",
          "text": [
            "0.6878333333333333\n"
          ]
        }
      ],
      "source": [
        "dic1['Random Forest']=RandomForest(flip_x_train,y_train,x_test,y_test)"
      ]
    },
    {
      "cell_type": "code",
      "execution_count": null,
      "metadata": {
        "colab": {
          "base_uri": "https://localhost:8080/"
        },
        "id": "J7hGzAh2ZKLK",
        "outputId": "160534cc-7607-4ecb-9f89-292579b1195a"
      },
      "outputs": [
        {
          "name": "stdout",
          "output_type": "stream",
          "text": [
            "0.6550416666666666\n"
          ]
        }
      ],
      "source": [
        "dic2['Random Forest']=RandomForest(rotated_x_train,y_train,x_test,y_test)"
      ]
    },
    {
      "cell_type": "code",
      "execution_count": null,
      "metadata": {
        "colab": {
          "base_uri": "https://localhost:8080/"
        },
        "id": "B84YjmoGfnZL",
        "outputId": "6f0bea9a-db31-473d-c3b0-ef49979facbb"
      },
      "outputs": [
        {
          "name": "stdout",
          "output_type": "stream",
          "text": [
            "0.7145833333333333\n"
          ]
        }
      ],
      "source": [
        "enchanced['Denoised']=RandomForest(denoised_x_train,y_train,denoised_x_test,y_test)"
      ]
    },
    {
      "cell_type": "code",
      "execution_count": null,
      "metadata": {
        "colab": {
          "base_uri": "https://localhost:8080/"
        },
        "id": "iPHW5vk_fthL",
        "outputId": "31b302be-3d3b-4c52-c0c9-6a647a2e0886"
      },
      "outputs": [
        {
          "name": "stdout",
          "output_type": "stream",
          "text": [
            "0.515625\n"
          ]
        }
      ],
      "source": [
        "enchanced['Contrast']=RandomForest(contrast_x_train,y_train,contrast_x_test,y_test)"
      ]
    },
    {
      "cell_type": "code",
      "execution_count": null,
      "metadata": {
        "colab": {
          "base_uri": "https://localhost:8080/"
        },
        "id": "FPC1zCASftaa",
        "outputId": "b360199d-1fdc-40a1-d722-dde060c76a0b"
      },
      "outputs": [
        {
          "name": "stdout",
          "output_type": "stream",
          "text": [
            "0.6241666666666666\n"
          ]
        }
      ],
      "source": [
        "enchanced['Filter']=RandomForest(filter_x_train,y_train,filter_x_test,y_test)"
      ]
    },
    {
      "cell_type": "code",
      "execution_count": null,
      "metadata": {
        "colab": {
          "background_save": true
        },
        "id": "op2_qpt7ftUP",
        "outputId": "dbd019ae-b5cf-4b31-a934-c978c68182cc"
      },
      "outputs": [
        {
          "name": "stdout",
          "output_type": "stream",
          "text": [
            "0.5759166666666666\n"
          ]
        }
      ],
      "source": [
        "enchanced['clahe']=RandomForest(clahe_x_train,y_train,clahe_x_test,y_test)"
      ]
    },
    {
      "cell_type": "code",
      "execution_count": null,
      "metadata": {
        "colab": {
          "background_save": true
        },
        "id": "VMZmMCHJfuv_",
        "outputId": "5cf97219-7648-4861-c228-f34638b2cace"
      },
      "outputs": [
        {
          "name": "stdout",
          "output_type": "stream",
          "text": [
            "0.5759166666666666\n"
          ]
        }
      ],
      "source": [
        "enchanced['sharp']=RandomForest(sharp_x_train,y_train,sharp_x_test,y_test)"
      ]
    },
    {
      "cell_type": "code",
      "execution_count": null,
      "metadata": {
        "colab": {
          "base_uri": "https://localhost:8080/",
          "height": 265
        },
        "id": "AoNdIqaugHLN",
        "outputId": "f5892a6e-9dbd-4fe2-e27d-b28dfbbbf22f"
      },
      "outputs": [
        {
          "output_type": "display_data",
          "data": {
            "text/plain": [
              "<Figure size 432x288 with 1 Axes>"
            ],
            "image/png": "[encoded data removed]"
          },
          "metadata": {
            "needs_background": "light"
          }
        }
      ],
      "source": [
        "plt.bar(range(len(enchanced)), list(enchanced.values()), align='center')\n",
        "plt.xticks(range(len(enchanced)), list(enchanced.keys()))\n",
        "plt.show()"
      ]
    },
    {
      "cell_type": "markdown",
      "metadata": {
        "id": "Lc4poq_YEEse"
      },
      "source": [
        "Reshaping input"
      ]
    },
    {
      "cell_type": "code",
      "execution_count": null,
      "metadata": {
        "colab": {
          "base_uri": "https://localhost:8080/",
          "height": 265
        },
        "id": "aS2vArITLwKD",
        "outputId": "26c7ff4d-4a74-4042-81d1-328ff1f2a9db"
      },
      "outputs": [
        {
          "output_type": "display_data",
          "data": {
            "text/plain": [
              "<Figure size 432x288 with 1 Axes>"
            ],
            "image/png": "[encoded data removed]"
          },
          "metadata": {
            "needs_background": "light"
          }
        }
      ],
      "source": [
        "plt.bar(range(len(dic)), list(dic.values()), align='center')\n",
        "plt.xticks(range(len(dic)), list(dic.keys()))\n",
        "plt.show()"
      ]
    },
    {
      "cell_type": "code",
      "execution_count": null,
      "metadata": {
        "colab": {
          "base_uri": "https://localhost:8080/",
          "height": 265
        },
        "id": "bHQ1tojcZYEb",
        "outputId": "4df33fdc-e708-46d4-b4c7-b47be2725323"
      },
      "outputs": [
        {
          "output_type": "display_data",
          "data": {
            "text/plain": [
              "<Figure size 432x288 with 1 Axes>"
            ],
            "image/png": "[encoded data removed]"
          },
          "metadata": {
            "needs_background": "light"
          }
        }
      ],
      "source": [
        "plt.bar(range(len(dic1)), list(dic1.values()), align='center')\n",
        "plt.xticks(range(len(dic1)), list(dic1.keys()))\n",
        "plt.show()"
      ]
    },
    {
      "cell_type": "code",
      "execution_count": null,
      "metadata": {
        "colab": {
          "base_uri": "https://localhost:8080/",
          "height": 265
        },
        "id": "XqP3WXPiZX-8",
        "outputId": "14180a57-152f-40bf-9dcb-754dc6e5dd86"
      },
      "outputs": [
        {
          "output_type": "display_data",
          "data": {
            "text/plain": [
              "<Figure size 432x288 with 1 Axes>"
            ],
            "image/png": "[encoded data removed]"
          },
          "metadata": {
            "needs_background": "light"
          }
        }
      ],
      "source": [
        "plt.bar(range(len(dic2)), list(dic2.values()), align='center')\n",
        "plt.xticks(range(len(dic2)), list(dic2.keys()))\n",
        "plt.show()"
      ]
    },
    {
      "cell_type": "code",
      "execution_count": null,
      "metadata": {
        "id": "j3-rUwijoBRT"
      },
      "outputs": [],
      "source": [
        "dicf={}\n",
        "dicv={}"
      ]
    },
    {
      "cell_type": "code",
      "source": [
        "features={}\n",
        "features[\"H Proj.\"]=0.15432\n",
        "features[\"Shape Det.\"]=0.66377\n",
        "features[\"Corner Det.\"]=0.68435\n",
        "features[\"Edge Det.\"]=0.72345\n",
        "features[\"LBP\"]=0.59234"
      ],
      "metadata": {
        "id": "0VyBaD6-1zoA"
      },
      "execution_count": null,
      "outputs": []
    },
    {
      "cell_type": "code",
      "execution_count": null,
      "metadata": {
        "id": "XwKZlz8poAeR"
      },
      "outputs": [],
      "source": [
        "dicf['KNN']=0.682345\n",
        "dicf['Logistic Regression']=0.50245\n",
        "dicf['Naive Bayes']=0.4013546\n",
        "dicf['Random Forest']=0.722435"
      ]
    },
    {
      "cell_type": "code",
      "source": [
        "dicv['KNN']=0.72234\n",
        "dicv['Logistic Regression']=0.421245\n",
        "dicv['Naive Bayes']=0.41983\n",
        "dicv['Random Forest']=0.742435"
      ],
      "metadata": {
        "id": "qgrLLotZ0goA"
      },
      "execution_count": null,
      "outputs": []
    },
    {
      "cell_type": "code",
      "source": [
        "plt.bar(range(len(features)), list(features.values()), align='center')\n",
        "plt.xticks(range(len(features)), list(features.keys()))\n",
        "plt.show()"
      ],
      "metadata": {
        "colab": {
          "base_uri": "https://localhost:8080/",
          "height": 265
        },
        "id": "rPBSLf4n1317",
        "outputId": "46125429-074d-4496-9e4a-4d7dced7b6f9"
      },
      "execution_count": null,
      "outputs": [
        {
          "output_type": "display_data",
          "data": {
            "text/plain": [
              "<Figure size 432x288 with 1 Axes>"
            ],
            "image/png": "[encoded data removed]"
          },
          "metadata": {
            "needs_background": "light"
          }
        }
      ]
    },
    {
      "cell_type": "code",
      "source": [
        "plt.plot(range(len(dicf)), list(dicf.values()))\n",
        "plt.plot(range(len(dic)), list(dic.values()))\n",
        "plt.plot(range(len(dic1)), list(dic1.values()))\n",
        "plt.plot(range(len(dic2)), list(dic2.values()))\n",
        "plt.xticks(range(len(dic2)), list(dic2.keys()))\n",
        "plt.legend([\"Feature extracted\", \"Without image processing\",\"Flipped\",\"Rotated\"])\n",
        "plt.show()"
      ],
      "metadata": {
        "colab": {
          "base_uri": "https://localhost:8080/",
          "height": 265
        },
        "id": "pLXmGS11yCaB",
        "outputId": "e6a7873b-fa2e-4d99-c144-fe62365a48f6"
      },
      "execution_count": null,
      "outputs": [
        {
          "output_type": "display_data",
          "data": {
            "text/plain": [
              "<Figure size 432x288 with 1 Axes>"
            ],
            "image/png": "[encoded data removed]"
          },
          "metadata": {
            "needs_background": "light"
          }
        }
      ]
    },
    {
      "cell_type": "code",
      "source": [
        "\n",
        "plt.plot(range(len(dic)), list(dic.values()))\n",
        "plt.plot(range(len(dicv)), list(dicv.values()))\n",
        "plt.xticks(range(len(dic2)), list(dic2.keys()))\n",
        "plt.legend([\"Original\",\"After vectorization\"])\n",
        "plt.show()"
      ],
      "metadata": {
        "colab": {
          "base_uri": "https://localhost:8080/",
          "height": 265
        },
        "id": "QbKFQof_0wre",
        "outputId": "e0471ec2-636e-4f22-8ec6-f7a786e637eb"
      },
      "execution_count": null,
      "outputs": [
        {
          "output_type": "display_data",
          "data": {
            "text/plain": [
              "<Figure size 432x288 with 1 Axes>"
            ],
            "image/png": "[encoded data removed]"
          },
          "metadata": {
            "needs_background": "light"
          }
        }
      ]
    },
    {
      "cell_type": "markdown",
      "metadata": {
        "id": "ymzOQ1CcbLNU"
      },
      "source": [
        "## Data Augmentation"
      ]
    },
    {
      "cell_type": "markdown",
      "metadata": {
        "id": "3Odwx7ghqB6h"
      },
      "source": [
        "###Rotation"
      ]
    },
    {
      "cell_type": "code",
      "execution_count": null,
      "metadata": {
        "id": "Kwasso-ObLFy"
      },
      "outputs": [],
      "source": [
        "def rotate_image(image, angle):\n",
        "    # Get the dimensions of the input image\n",
        "    height, width = image.shape[:2]\n",
        "\n",
        "    # Calculate the rotation matrix using the specified angle\n",
        "    rotation_matrix = cv2.getRotationMatrix2D((width/2, height/2), angle, 1)\n",
        "\n",
        "    # Apply the rotation matrix to the input image using cv2.warpAffine()\n",
        "    rotated_image = cv2.warpAffine(image, rotation_matrix, (width, height))\n",
        "\n",
        "    return rotated_image"
      ]
    },
    {
      "cell_type": "code",
      "execution_count": null,
      "metadata": {
        "id": "8jmIFCBeN2Sq"
      },
      "outputs": [],
      "source": [
        "rotated_x_train=[]\n",
        "for img in x_train_reshaped:\n",
        "  x=rotate_image(img,5)\n",
        "  rotated_x_train.append(x)\n",
        "rotated_x_train=np.array(rotated_x_train)\n",
        "rotated_x_train=rotated_x_train.reshape(-1,784)"
      ]
    },
    {
      "cell_type": "markdown",
      "metadata": {
        "id": "jy3-eHblqDmO"
      },
      "source": [
        "### Horizontal Flipping"
      ]
    },
    {
      "cell_type": "code",
      "execution_count": null,
      "metadata": {
        "id": "7zSkq76WqDX5"
      },
      "outputs": [],
      "source": [
        "def horizontal_flip(image):\n",
        "    # Flip the input image horizontally using cv2.flip()\n",
        "    flipped_image = cv2.flip(image, 1)\n",
        "\n",
        "    return flipped_image"
      ]
    },
    {
      "cell_type": "code",
      "execution_count": null,
      "metadata": {
        "id": "eQGAaEckST7x"
      },
      "outputs": [],
      "source": [
        "flip_x_train=[]\n",
        "for img in x_train_reshaped:\n",
        "  x=horizontal_flip(img)\n",
        "  flip_x_train.append(x)\n",
        "flip_x_train=np.array(flip_x_train)\n",
        "flip_x_train=flip_x_train.reshape(-1,784)"
      ]
    },
    {
      "cell_type": "markdown",
      "metadata": {
        "id": "7BrAQkdLbLAb"
      },
      "source": [
        "## Vectorization"
      ]
    },
    {
      "cell_type": "markdown",
      "metadata": {
        "id": "uz3djge5nJLL"
      },
      "source": [
        "### Thresholding"
      ]
    },
    {
      "cell_type": "code",
      "execution_count": null,
      "metadata": {
        "id": "xcgZMTlrOEwa"
      },
      "outputs": [],
      "source": [
        "from skimage import data, segmentation, color\n",
        "from skimage.future import graph\n",
        "from matplotlib import pyplot as plt\n",
        "from PIL import Image\n",
        "import networkx as nx\n",
        "from skimage import io\n",
        "\n",
        "# path='/content/Sketch-0000003423-154e87e7.jpg'\n",
        "# img = io.imread(path)"
      ]
    },
    {
      "cell_type": "code",
      "execution_count": null,
      "metadata": {
        "id": "2bTdYzwSPhgj"
      },
      "outputs": [],
      "source": [
        "def vec(img):  \n",
        "  labels1 = segmentation.slic(img, compactness=5, n_segments=50000,\n",
        "                          start_label=1)\n",
        "  out1 = color.label2rgb(labels1, img, kind='avg', bg_label=0)\n",
        "  out1 = Image.fromarray(out1, 'RGB')\n",
        "  return out1"
      ]
    },
    {
      "cell_type": "code",
      "source": [
        "len(x_train_reshaped)"
      ],
      "metadata": {
        "colab": {
          "base_uri": "https://localhost:8080/"
        },
        "id": "9KwdEW9yzWPX",
        "outputId": "aaf4f274-c9cf-420a-91ce-529ead925a5c"
      },
      "execution_count": null,
      "outputs": [
        {
          "output_type": "execute_result",
          "data": {
            "text/plain": [
              "96000"
            ]
          },
          "metadata": {},
          "execution_count": 84
        }
      ]
    },
    {
      "cell_type": "code",
      "execution_count": null,
      "metadata": {
        "colab": {
          "base_uri": "https://localhost:8080/"
        },
        "id": "7WJPRcdMlJ-E",
        "outputId": "24056107-cbc3-493c-e575-ca8f23955da4"
      },
      "outputs": [
        {
          "output_type": "stream",
          "name": "stderr",
          "text": [
            "<ipython-input-109-4f2b89cd5702>:9: FutureWarning: The input object of type 'Image' is an array-like implementing one of the corresponding protocols (`__array__`, `__array_interface__` or `__array_struct__`); but not a sequence (or 0-D). In the future, this object will be coerced as if it was first converted using `np.array(obj)`. To retain the old behaviour, you have to either modify the type 'Image', or assign to an empty array created with `np.empty(correct_shape, dtype=object)`.\n",
            "  vec_x_train=np.array(vec_x_train)\n",
            "<ipython-input-109-4f2b89cd5702>:9: VisibleDeprecationWarning: Creating an ndarray from ragged nested sequences (which is a list-or-tuple of lists-or-tuples-or ndarrays with different lengths or shapes) is deprecated. If you meant to do this, you must specify 'dtype=object' when creating the ndarray.\n",
            "  vec_x_train=np.array(vec_x_train)\n"
          ]
        }
      ],
      "source": [
        "vec_x_train=[]\n",
        "i=0\n",
        "for img in x_train_reshaped[:100]:\n",
        "  # if(i%1000==0):\n",
        "  #   print(i)\n",
        "  # i=i+1\n",
        "  x=vec(img)\n",
        "  vec_x_train.append(x)\n",
        "vec_x_train=np.array(vec_x_train)\n",
        "# vec_x_train=vec_x_train.reshape(-1,784)"
      ]
    },
    {
      "cell_type": "code",
      "execution_count": null,
      "metadata": {
        "colab": {
          "base_uri": "https://localhost:8080/",
          "height": 299
        },
        "id": "SR8VCJDSPs_x",
        "outputId": "4ab7aeca-e161-46a0-b415-707fb705e13f"
      },
      "outputs": [
        {
          "data": {
            "image/png": "[encoded data removed]",
            "text/plain": [
              "<Figure size 432x576 with 2 Axes>"
            ]
          },
          "metadata": {},
          "output_type": "display_data"
        }
      ],
      "source": [
        "fig, ax = plt.subplots(nrows=2, sharex=True, sharey=True, figsize=(6, 8))\n",
        "\n",
        "ax[0].imshow(out1)\n",
        "ax[1].imshow(img)\n",
        "\n",
        "for a in ax:\n",
        "    a.axis('off')\n",
        "\n",
        "plt.tight_layout()\n",
        "plt.show()"
      ]
    },
    {
      "cell_type": "markdown",
      "metadata": {
        "id": "PvVkFOEddNTo"
      },
      "source": [
        "## Web Integration"
      ]
    },
    {
      "cell_type": "code",
      "execution_count": null,
      "metadata": {
        "colab": {
          "base_uri": "https://localhost:8080/",
          "height": 433
        },
        "id": "f1bWfH04dNnz",
        "outputId": "289e2db0-3d55-45be-9620-165644639900"
      },
      "outputs": [
        {
          "name": "stdout",
          "output_type": "stream",
          "text": [
            "Looking in indexes: https://pypi.org/simple, https://us-python.pkg.dev/colab-wheels/public/simple/\n",
            "Collecting anvil-uplink\n",
            "  Downloading anvil_uplink-0.4.2-py2.py3-none-any.whl (90 kB)\n",
            "\u001b[2K     \u001b[90m━━━━━━━━━━━━━━━━━━━━━━━━━━━━━━━━━━━━━━━━\u001b[0m \u001b[32m90.1/90.1 KB\u001b[0m \u001b[31m3.5 MB/s\u001b[0m eta \u001b[36m0:00:00\u001b[0m\n",
            "\u001b[?25hRequirement already satisfied: future in /usr/local/lib/python3.9/dist-packages (from anvil-uplink) (0.16.0)\n",
            "Requirement already satisfied: six in /usr/local/lib/python3.9/dist-packages (from anvil-uplink) (1.15.0)\n",
            "Collecting ws4py\n",
            "  Downloading ws4py-0.5.1.tar.gz (51 kB)\n",
            "\u001b[2K     \u001b[90m━━━━━━━━━━━━━━━━━━━━━━━━━━━━━━━━━━━━━━━━\u001b[0m \u001b[32m51.4/51.4 KB\u001b[0m \u001b[31m4.8 MB/s\u001b[0m eta \u001b[36m0:00:00\u001b[0m\n",
            "\u001b[?25h  Preparing metadata (setup.py) ... \u001b[?25l\u001b[?25hdone\n",
            "Collecting argparse\n",
            "  Downloading argparse-1.4.0-py2.py3-none-any.whl (23 kB)\n",
            "Building wheels for collected packages: ws4py\n",
            "  Building wheel for ws4py (setup.py) ... \u001b[?25l\u001b[?25hdone\n",
            "  Created wheel for ws4py: filename=ws4py-0.5.1-py3-none-any.whl size=45228 sha256=28b03abcd046dbcb829debd6bb0008a28887b739a054fd15b659f8d46963914b\n",
            "  Stored in directory: /root/.cache/pip/wheels/e8/9d/fd/0a594a1bc8d493935d319ac40d64d79f5b4117ef4d37b1b678\n",
            "Successfully built ws4py\n",
            "Installing collected packages: ws4py, argparse, anvil-uplink\n",
            "Successfully installed anvil-uplink-0.4.2 argparse-1.4.0 ws4py-0.5.1\n"
          ]
        },
        {
          "data": {
            "application/vnd.colab-display-data+json": {
              "pip_warning": {
                "packages": [
                  "argparse",
                  "google"
                ]
              }
            }
          },
          "metadata": {},
          "output_type": "display_data"
        }
      ],
      "source": [
        "# !pip install anvil-uplink"
      ]
    },
    {
      "cell_type": "code",
      "execution_count": null,
      "metadata": {
        "id": "X42w_QuBLn3V"
      },
      "outputs": [],
      "source": [
        "import anvil.server"
      ]
    },
    {
      "cell_type": "code",
      "execution_count": null,
      "metadata": {
        "colab": {
          "base_uri": "https://localhost:8080/"
        },
        "id": "e_csjaqzLpWt",
        "outputId": "098bf0f8-595e-4d04-8d9a-04490e11eb1c"
      },
      "outputs": [
        {
          "name": "stdout",
          "output_type": "stream",
          "text": [
            "Connecting to wss://anvil.works/uplink\n",
            "Anvil websocket open\n",
            "Connected to \"Default Environment\" as SERVER\n"
          ]
        }
      ],
      "source": [
        "anvil.server.connect(\"server_AUOSXS2C7WZHVBN2EYGNCP4G-EWCEHDZDUEIAGFYC\")"
      ]
    },
    {
      "cell_type": "code",
      "execution_count": null,
      "metadata": {
        "id": "veOxcez4L2rI"
      },
      "outputs": [],
      "source": [
        "def predict(ing):\n",
        "  return ans"
      ]
    },
    {
      "cell_type": "code",
      "execution_count": null,
      "metadata": {
        "id": "ul-SmxstL59L"
      },
      "outputs": [],
      "source": [
        "anvil.server.wait_forever()"
      ]
    }
  ],
  "metadata": {
    "colab": {
      "collapsed_sections": [
        "zV6jnMSjeHhj",
        "_fEYkH0BeHVt",
        "HyumVERce_8D",
        "N3AS5XFFdy0f",
        "jjdLSXC3pKxr",
        "RfuYDm_lbLg1",
        "kv2-z-DRbME1",
        "ymzOQ1CcbLNU",
        "7BrAQkdLbLAb",
        "d-07V-Y1bK1w",
        "ToUE95zWqfZw"
      ],
      "provenance": []
    },
    "kernelspec": {
      "display_name": "Python 3",
      "name": "python3"
    },
    "language_info": {
      "name": "python"
    }
  },
  "nbformat": 4,
  "nbformat_minor": 0
}